{
 "cells": [
  {
   "cell_type": "code",
   "execution_count": 13,
   "metadata": {},
   "outputs": [],
   "source": [
    "# 探究处理用户输入的方法对查询准确率的影响\n",
    "import utils\n",
    "from query import QueryManager\n",
    "from advance import ReformatManager, RejectManager, HistoryManager\n",
    "\n",
    "import warnings    "
   ]
  },
  {
   "cell_type": "code",
   "execution_count": 14,
   "metadata": {},
   "outputs": [
    {
     "name": "stdout",
     "output_type": "stream",
     "text": [
      "正在加载数据库...\n"
     ]
    }
   ],
   "source": [
    "warnings.filterwarnings('ignore')\n",
    "utils.setup()\n",
    "\n",
    "print(\"正在加载数据库...\")\n",
    "queryManager = QueryManager()"
   ]
  },
  {
   "cell_type": "code",
   "execution_count": 15,
   "metadata": {},
   "outputs": [],
   "source": [
    "def test(questions):\n",
    "    rejectManager = RejectManager()\n",
    "    reformatManager = ReformatManager()\n",
    "    historyManager = HistoryManager()\n",
    "\n",
    "    history = []\n",
    "    log = []\n",
    "    \n",
    "    for question in questions:\n",
    "        cur_dict = {\"total_question\": question}\n",
    "        deter = rejectManager.determine(question)\n",
    "        cur_dict[\"deter\"] = deter\n",
    "        \n",
    "        if deter == \"False\":\n",
    "            log.append(cur_dict)\n",
    "            continue\n",
    "        \n",
    "        _, scores = queryManager.query_one(question)\n",
    "        cur_dict[\"nothing_result\"] = scores\n",
    "        \n",
    "        expand_question = historyManager.expand(question, history)\n",
    "        _, scores = queryManager.query_one(expand_question)\n",
    "        cur_dict[\"expand_result\"] = {\"q\": expand_question, \"scores\": scores}\n",
    "        \n",
    "        pairs = reformatManager.reformat(expand_question)\n",
    "        cur_dict[\"reformat_result\"] = []\n",
    "        for idx, pair in enumerate(pairs):\n",
    "            simplified_question, brief_ans = pair[\"question\"], pair[\"answer\"]\n",
    "            cur_question_dict = {\"q\": simplified_question, \"a\": brief_ans}\n",
    "\n",
    "            question = simplified_question\n",
    "            query = f\"{simplified_question} {brief_ans}\"\n",
    "            \n",
    "            history.append(question)\n",
    "            _, scores = queryManager.query_one(query)\n",
    "            cur_question_dict[\"scores\"] = scores\n",
    "            cur_dict[\"reformat_result\"].append(cur_question_dict)\n",
    "        log.append(cur_dict)\n",
    "    \n",
    "    return log"
   ]
  },
  {
   "cell_type": "code",
   "execution_count": 16,
   "metadata": {},
   "outputs": [],
   "source": [
    "test_questions = {\n",
    "    \"long1\": [\"医生您好，我最近这几个月总是感觉特别疲劳，早上起床的时候也觉得没精神，不像以前那样充满活力了。而且我发现自己的睡眠质量很差，晚上总是要醒好几次，有时候是因为要去厕所，有时候就只是躺在床上翻来覆去睡不着。另外，我还发现自己食欲下降了不少，体重也因此轻了几斤。之前没有过这样的情况，所以我有点担心是不是身体哪里出了问题。哦对了，我还有点头晕，尤其是在下午的时候更明显。\"],\n",
    "    \"long2\": [\"大夫您好，我想跟您说说我最近遇到的一些小麻烦。大概从上个月开始吧，我就经常感到胸口闷闷的，偶尔还会有些轻微的疼痛，尤其是在深呼吸或者稍微运动一下之后就会感觉到。我也注意到自己这段时间心跳似乎比以前快了些，有时候坐在那里不动都会突然心跳加速。除此之外，我还发现手指尖有时候会有麻木的感觉，这种情况并不频繁，但是确实发生了几次。我自己查了一些资料，但也没看出个所以然来，所以来找您看看。\"],\n",
    "    \"long3\": [\"您好医生，我这次来找您主要是想咨询一下关于我的消化问题。近两个月来，我总是觉得肚子胀胀的，尤其是吃过饭以后这种感觉更加明显。有时候还会伴有恶心感，甚至有几次差点没忍住吐出来。此外，我也注意到大便的习惯发生了变化，颜色看起来也不太正常，偏暗且不成形。虽然我知道这些症状听起来可能不是特别严重，但我还是很担心会影响到我的健康，所以希望您能帮我检查一下。\"],\n",
    "    \"expand\": [\n",
    "        \"脑卒中怎么办？\", \"这个病严重吗\", \"该如何治疗？\"\n",
    "    ], \n",
    "    \"small\": [\n",
    "        \"脑出血是什么病？\", \"脑出血怎么治疗？\", \"如何预防脑出血？\"\n",
    "    ]\n",
    "}"
   ]
  },
  {
   "cell_type": "code",
   "execution_count": 17,
   "metadata": {},
   "outputs": [],
   "source": [
    "total_result = {}\n",
    "for k, v in test_questions.items():\n",
    "    r = test(v)\n",
    "    total_result[k] = r"
   ]
  },
  {
   "cell_type": "code",
   "execution_count": 19,
   "metadata": {},
   "outputs": [
    {
     "name": "stdout",
     "output_type": "stream",
     "text": [
      "{'long1': [{'total_question': '医生您好，我最近这几个月总是感觉特别疲劳，早上起床的时候也觉得没精神，不像以前那样充满活力了。而且我发现自己的睡眠质量很差，晚上总是要醒好几次，有时候是因为要去厕所，有时候就只是躺在床上翻来覆去睡不着。另外，我还发现自己食欲下降了不少，体重也因此轻了几斤。之前没有过这样的情况，所以我有点担心是不是身体哪里出了问题。哦对了，我还有点头晕，尤其是在下午的时候更明显。', 'deter': 'True', 'nothing_result': [0.8621908057309482, 0.8600774996992064, 0.8586822795659512, 0.8554695671393672, 0.8536940792630631], 'expand_result': {'q': '医生您好，我最近这几个月总是感觉特别疲劳，早上起床的时候也觉得没精神，不像以前那样充满活力了。而且我发现自己的睡眠质量很差，晚上总是要醒好几次，有时候是因为要去厕所，有时候就只是躺在床上翻来覆去睡不着。另外，我还发现自己食欲下降了不少，体重也因此轻了几斤。之前没有过这样的情况，所以我有点担心是不是身体哪里出了问题。哦对了，我还有点头晕，尤其是在下午的时候更明显。', 'scores': [0.8621908057309482, 0.8600774996992064, 0.8586822795659512, 0.8554695671393672, 0.8536940792630631]}, 'reformat_result': [{'q': '持续疲劳、睡眠质量下降可能的原因是什么？', 'a': '可能由压力、焦虑、睡眠障碍、抑郁等引起。', 'scores': [0.8669562372418854, 0.8643116055818331, 0.858368149056328, 0.8543627193263432, 0.8507962044922758]}, {'q': '持续疲劳、睡眠质量下降应该如何改善？', 'a': '建立规律作息；减少压力，保持良好心态；避免刺激性饮料；保持健康饮食；如持续，咨询医生。', 'scores': [0.8678387501881687, 0.8673243289020875, 0.8634431510468871, 0.8604218654325134, 0.8588827460836603]}, {'q': '食欲下降、体重减轻的可能原因是什么？', 'a': '可能由情绪压力、抑郁、代谢异常等引起。', 'scores': [0.8645343400287119, 0.856484375454392, 0.8534872973509793, 0.8507431294998873, 0.8441413711287593]}, {'q': '食欲下降、体重减轻应该如何处理？', 'a': '保持合理饮食；进行适量运动；保持心理健康；必要时寻求医生帮助。', 'scores': [0.865811377220707, 0.8606644605102037, 0.8536355801812212, 0.8529070180098766, 0.8525722594659361]}, {'q': '下午头晕可能的原因是什么？', 'a': '可能由低血糖、贫血、颈椎病等引起，建议检查相关指标并咨询医生。', 'scores': [0.8819883355239103, 0.8734874867374419, 0.8717300301317739, 0.8684853787457684, 0.8668510026467529]}]}], 'long2': [{'total_question': '大夫您好，我想跟您说说我最近遇到的一些小麻烦。大概从上个月开始吧，我就经常感到胸口闷闷的，偶尔还会有些轻微的疼痛，尤其是在深呼吸或者稍微运动一下之后就会感觉到。我也注意到自己这段时间心跳似乎比以前快了些，有时候坐在那里不动都会突然心跳加速。除此之外，我还发现手指尖有时候会有麻木的感觉，这种情况并不频繁，但是确实发生了几次。我自己查了一些资料，但也没看出个所以然来，所以来找您看看。', 'deter': 'True', 'nothing_result': [0.8706981433776896, 0.8648221543543653, 0.8616060235141131, 0.858112676764877, 0.8576674034418217], 'expand_result': {'q': '大夫您好，我想跟您说说我最近遇到的一些小麻烦。大概从上个月开始吧，我就经常感到胸口闷闷的，偶尔还会有些轻微的疼痛，尤其是在深呼吸或者稍微运动一下之后就会感觉到。我也注意到自己这段时间心跳似乎比以前快了些，有时候坐在那里不动都会突然心跳加速。除此之外，我还发现手指尖有时候会有麻木的感觉，这种情况并不频繁，但是确实发生了几次。我自己查了一些资料，但也没看出个所以然来，所以来找您看看。', 'scores': [0.8706981433776896, 0.8648221543543653, 0.8616060235141131, 0.858112676764877, 0.8576674034418217]}, 'reformat_result': [{'q': '胸口闷闷、轻微疼痛的原因是什么？', 'a': '可能由心脏问题、肺部疾病或焦虑引起。', 'scores': [0.8846403744144112, 0.8831653117410182, 0.8812269884968791, 0.8771326530155927, 0.8743647457711199]}, {'q': '心跳加速、手指麻木的原因是什么？', 'a': '可能由心血管问题、神经系统疾病或血液循环异常引起。', 'scores': [0.8644140310734899, 0.8482201920486078, 0.8466745811485048, 0.8461969595695704, 0.8422651249972742]}, {'q': '胸口闷闷、轻微疼痛应该如何治疗？', 'a': '尽快就医进行相关检查；保持良好的生活习惯；避免剧烈运动；根据医生建议进行治疗。', 'scores': [0.8780062445511775, 0.8677299595598044, 0.8660891446510433, 0.864375429444421, 0.8641089693708158]}, {'q': '心跳加速、手指麻木应该如何治疗？', 'a': '就医进行全面检查；保持健康饮食；适量运动；避免精神压力；根据医生建议进行治疗。', 'scores': [0.8627361410786734, 0.8624308840928521, 0.8580344021033776, 0.8573002632445156, 0.8561578181724524]}]}], 'long3': [{'total_question': '您好医生，我这次来找您主要是想咨询一下关于我的消化问题。近两个月来，我总是觉得肚子胀胀的，尤其是吃过饭以后这种感觉更加明显。有时候还会伴有恶心感，甚至有几次差点没忍住吐出来。此外，我也注意到大便的习惯发生了变化，颜色看起来也不太正常，偏暗且不成形。虽然我知道这些症状听起来可能不是特别严重，但我还是很担心会影响到我的健康，所以希望您能帮我检查一下。', 'deter': 'True', 'nothing_result': [0.8729702711985668, 0.8644926310684417, 0.8644771292147483, 0.8611819200468639, 0.8611049698002302], 'expand_result': {'q': '医生，我这次来找您主要是想咨询一下关于我的消化问题。近两个月来，我总是觉得肚子胀胀的，尤其是吃过饭以后这种感觉更加明显。有时候还会伴有恶心感，甚至有几次差点没忍住吐出来。此外，我也注意到大便的习惯发生了变化，颜色看起来也不太正常，偏暗且不成形。虽然我知道这些症状听起来可能不是特别严重，但我还是很担心会影响到我的健康，所以希望您能帮我检查一下。', 'scores': [0.8739987334727973, 0.8656253624796306, 0.8650484958114868, 0.8634747142306436, 0.8621766271129753]}, 'reformat_result': [{'q': '消化问题引起肚子胀胀、恶心和大便异常的原因是什么？', 'a': '可能由消化不良、食物过敏或消化道疾病引起。', 'scores': [0.8872141138830194, 0.879223119988365, 0.8783643094934892, 0.8729408394750777, 0.8662388418967214]}, {'q': '如何改善肚子胀胀、恶心和大便异常的症状？', 'a': '保持饮食规律；避免过度进食或食用刺激性食物；多喝水；如持续，咨询医生。', 'scores': [0.8742285678092978, 0.8737831302541312, 0.8725910174986328, 0.8719136732874301, 0.8717355832019706]}]}], 'expand': [{'total_question': '脑卒中怎么办？', 'deter': 'True', 'nothing_result': [0.8708143720165816, 0.869754657320454, 0.8686554879335487, 0.8680868655542981, 0.8678369425627512], 'expand_result': {'q': '脑卒中怎么办？', 'scores': [0.8708143720165816, 0.869754657320454, 0.8686554879335487, 0.8680868655542981, 0.8678369425627512]}, 'reformat_result': [{'q': '脑卒中的症状有哪些？', 'a': '脑卒中的症状包括突发的头痛、视力问题、言语障碍、肢体无力等。', 'scores': [0.9172138932314797, 0.9062910219340748, 0.9003567936047511, 0.8991679210934816, 0.8979251274405678]}, {'q': '脑卒中的治疗方法有哪些？', 'a': '脑卒中的治疗方法包括急救治疗、药物治疗、康复训练、手术治疗等。', 'scores': [0.8993220151538183, 0.8849474340442952, 0.8836672702369553, 0.8810779059052164, 0.8789816014473828]}]}, {'total_question': '这个病严重吗', 'deter': 'True', 'nothing_result': [0.8423338252071244, 0.8345934595255294, 0.8247305135359424, 0.8246914704989349, 0.8231140887002915], 'expand_result': {'q': '脑卒中严重吗？', 'scores': [0.8689542710229663, 0.8659345551591715, 0.8633707815288599, 0.8631782828158926, 0.8615562219360122]}, 'reformat_result': [{'q': '脑卒中的危害有多大？', 'a': '脑卒中是一种严重疾病，可能导致严重后果，包括瘫痪、失语、甚至危及生命。', 'scores': [0.9124336632427831, 0.8999216629360549, 0.8887700252873416, 0.887932663867174, 0.8865350857403393]}]}, {'total_question': '该如何治疗？', 'deter': 'True', 'nothing_result': [0.8368757605666668, 0.8357345017486023, 0.8296505058331025, 0.8293968559672322, 0.8286601432916351], 'expand_result': {'q': '脑卒中该如何治疗？', 'scores': [0.8923572684786422, 0.8867448794119152, 0.8861025545097779, 0.8860586335657822, 0.8777118555474144]}, 'reformat_result': [{'q': '脑卒中的治疗方法有哪些？', 'a': '脑卒中的治疗方法包括急救治疗、药物治疗、康复训练、手术治疗等。', 'scores': [0.8993220151538183, 0.8849474340442952, 0.8836672702369553, 0.8810779059052164, 0.8789816014473828]}]}], 'small': [{'total_question': '脑出血是什么病？', 'deter': 'True', 'nothing_result': [0.8954575887577559, 0.8856521963525354, 0.8850084237621615, 0.8828739246261802, 0.8808315713963861], 'expand_result': {'q': '脑出血是什么病？', 'scores': [0.8954575887577559, 0.8856521963525354, 0.8850084237621615, 0.8828739246261802, 0.8808315713963861]}, 'reformat_result': [{'q': '脑出血是什么病？', 'a': '脑出血是指脑血管破裂，血液流入脑组织或蛛网膜下腔的疾病，可导致脑组织受损和神经功能障碍。', 'scores': [0.9379501022710462, 0.9220864822878416, 0.9100784862858052, 0.9049910471681126, 0.9034914882462062]}]}, {'total_question': '脑出血怎么治疗？', 'deter': 'True', 'nothing_result': [0.8988311314983448, 0.8971412374699198, 0.8953079889217993, 0.8913811071297015, 0.888845811976941], 'expand_result': {'q': '脑出血怎么治疗？', 'scores': [0.8988311314983448, 0.8971412374699198, 0.8953079889217993, 0.8913811071297015, 0.888845811976941]}, 'reformat_result': [{'q': '脑出血怎么治疗？', 'a': '治疗脑出血的方法包括手术、药物治疗、康复护理和控制危险因素，具体治疗方案需根据患者具体情况而定。', 'scores': [0.9152512431567281, 0.9008874077487977, 0.897971134153845, 0.896604810709416, 0.8957356418071191]}]}, {'total_question': '如何预防脑出血？', 'deter': 'True', 'nothing_result': [0.8818302708603963, 0.880991048206189, 0.8788214663458479, 0.8760171620246231, 0.8757730304376348], 'expand_result': {'q': '如何预防脑出血？', 'scores': [0.8818302708603963, 0.880991048206189, 0.8788214663458479, 0.8760171620246231, 0.8757730304376348]}, 'reformat_result': [{'q': '如何预防脑出血？', 'a': '预防脑出血的方法包括控制高血压、戒烟戒酒、保持健康饮食、适量运动、定期体检和及时治疗疾病，尤其是心血管疾病。', 'scores': [0.9273543142476999, 0.914386760398847, 0.9141579082730121, 0.9104340386289319, 0.9052110334818767]}]}]}\n"
     ]
    }
   ],
   "source": [
    "print(total_result)"
   ]
  },
  {
   "cell_type": "code",
   "execution_count": 22,
   "metadata": {},
   "outputs": [],
   "source": [
    "def ev(total_result):\n",
    "    nothing_result = [0, 0, 0, 0, 0]\n",
    "    expand_result = [0, 0, 0, 0, 0]\n",
    "    final_result = [0, 0, 0, 0, 0]\n",
    "\n",
    "    nothing_count = 0\n",
    "    expand_count = 0\n",
    "    final_count = 0\n",
    "    for name, results in total_result.items():\n",
    "        for id, result in enumerate(results):\n",
    "            if result[\"deter\"] == \"False\":\n",
    "                print(\"not relevant\")\n",
    "                return\n",
    "            \n",
    "            if len(result[\"nothing_result\"]) != 5:\n",
    "                print(\"nothing result len != 5\")\n",
    "                return\n",
    "            \n",
    "            for i, n_r in enumerate(result[\"nothing_result\"]):\n",
    "                nothing_result[i] += n_r\n",
    "            nothing_count += 1\n",
    "            \n",
    "            if len(result[\"expand_result\"][\"scores\"]) != 5:\n",
    "                print(\"expand result len != 5\")\n",
    "                return\n",
    "            \n",
    "            for i, e_r in enumerate(result[\"expand_result\"][\"scores\"]):\n",
    "                expand_result[i] += e_r\n",
    "            expand_count += 1\n",
    "            \n",
    "            for r in result[\"reformat_result\"]:\n",
    "                if len(r[\"scores\"]) != 5:\n",
    "                    print(\"reformat result len != 5\")\n",
    "                    return\n",
    "                for i, r_r in enumerate(r[\"scores\"]):\n",
    "                    final_result[i] += r_r\n",
    "                final_count += 1\n",
    "    \n",
    "    for i in range(5):\n",
    "        nothing_result[i] /= nothing_count\n",
    "        expand_result[i] /= expand_count\n",
    "        final_result[i] /= final_count\n",
    "        \n",
    "    return nothing_result, expand_result, final_result        "
   ]
  },
  {
   "cell_type": "code",
   "execution_count": 23,
   "metadata": {},
   "outputs": [],
   "source": [
    "r = ev(total_result)"
   ]
  },
  {
   "cell_type": "code",
   "execution_count": 24,
   "metadata": {},
   "outputs": [
    {
     "name": "stdout",
     "output_type": "stream",
     "text": [
      "([0.8702224632460083, 0.8659177095272492, 0.8629933131808016, 0.8608012833057864, 0.8597253378745281], [0.8794591761351248, 0.8751937322725986, 0.8736226113215051, 0.8716281037612629, 0.8695659492972221], [0.8892897644150458, 0.8805718365702747, 0.8767951966243211, 0.8743370123515859, 0.8719431248243673])\n"
     ]
    }
   ],
   "source": [
    "print(r)"
   ]
  },
  {
   "cell_type": "code",
   "execution_count": 30,
   "metadata": {},
   "outputs": [
    {
     "data": {
      "image/png": "[encoded data removed]",
      "text/plain": [
       "<Figure size 640x480 with 1 Axes>"
      ]
     },
     "metadata": {},
     "output_type": "display_data"
    }
   ],
   "source": [
    "import numpy as np\n",
    "import matplotlib.pyplot as plt\n",
    "\n",
    "plt.rcParams['font.sans-serif'] = ['SimHei']  # 用来正常显示中文标签\n",
    "plt.rcParams['axes.unicode_minus'] = False    # 解决负号'-'显示为方块的问题\n",
    "\n",
    "names = ['无', '上下文补全', '补全+查询扩展']\n",
    "# 营养指标名称\n",
    "tops = ['top1', 'top2', 'top3', 'top4', 'top5']\n",
    "# 为每种水果创建一个随机的营养指标值列表\n",
    "top_values = [r[0], r[1], r[2]]\n",
    "\n",
    "# 设置柱状图的位置\n",
    "bar_width = 0.2\n",
    "index = np.arange(len(tops))\n",
    "\n",
    "# 绘制每种水果的柱状图\n",
    "for i in range(len(names)):\n",
    "    plt.bar(index + i * bar_width, top_values[i], bar_width, label=names[i])\n",
    "\n",
    "plt.xlabel('处理方式')\n",
    "plt.ylabel('平均查询余弦相似度')\n",
    "plt.title('不同处理方式对查询准确度的影响')\n",
    "plt.xticks(index + bar_width, tops)\n",
    "plt.ylim(0.84, 0.9)\n",
    "plt.legend()\n",
    "plt.tight_layout()\n",
    "plt.show()"
   ]
  }
 ],
 "metadata": {
  "kernelspec": {
   "display_name": "mzRAG",
   "language": "python",
   "name": "python3"
  },
  "language_info": {
   "codemirror_mode": {
    "name": "ipython",
    "version": 3
   },
   "file_extension": ".py",
   "mimetype": "text/x-python",
   "name": "python",
   "nbconvert_exporter": "python",
   "pygments_lexer": "ipython3",
   "version": "3.9.20"
  }
 },
 "nbformat": 4,
 "nbformat_minor": 2
}
