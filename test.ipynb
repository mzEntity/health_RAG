{
 "cells": [
  {
   "cell_type": "code",
   "execution_count": 3,
   "metadata": {},
   "outputs": [],
   "source": [
    "# 探究流水线拒绝回答无关问题的能力\n",
    "import utils\n",
    "from query import QueryManager\n",
    "from chat import ChatManager\n",
    "from advance import ReformatManager, RejectManager, HistoryManager\n",
    "from knowledgeGraph.chatbot_graph import ChatBotGraph\n",
    "\n",
    "import warnings    "
   ]
  },
  {
   "cell_type": "code",
   "execution_count": 5,
   "metadata": {},
   "outputs": [
    {
     "name": "stdout",
     "output_type": "stream",
     "text": [
      "正在加载知识图谱...\n",
      "正在加载数据库...\n"
     ]
    }
   ],
   "source": [
    "warnings.filterwarnings('ignore')\n",
    "utils.setup()\n",
    "\n",
    "print(\"正在加载知识图谱...\")\n",
    "graphChat = ChatBotGraph()\n",
    "\n",
    "print(\"正在加载数据库...\")\n",
    "queryManager = QueryManager()\n",
    "\n",
    "def test(name, questions):\n",
    "    rejectManager = RejectManager()\n",
    "    reformatManager = ReformatManager()\n",
    "    historyManager = HistoryManager()\n",
    "    chatManager = ChatManager()\n",
    "    \n",
    "    for question in questions:\n",
    "        utils.Logger.log(f\"./log/{name}.log\", question)\n",
    "        \n",
    "        deter = rejectManager.determine(question)\n",
    "        utils.Logger.log(f\"./log/{name}.log\", f\"是否属于健康医疗领域：{deter}\")\n",
    "        \n",
    "        if deter == \"False\":\n",
    "            continue\n",
    "        \n",
    "        expand_question = historyManager.expand(question, chatManager.history)\n",
    "        utils.Logger.log(f\"./log/{name}.log\", f\"问句改写：{expand_question}\")\n",
    "        \n",
    "        pairs = reformatManager.reformat(expand_question)\n",
    "        utils.Logger.log(f\"./log/{name}.log\", f\"问句拆分为{len(pairs)}个问题。\")\n",
    "        for idx, pair in enumerate(pairs):\n",
    "            simplified_question, brief_ans = pair[\"question\"], pair[\"answer\"]\n",
    "            utils.Logger.log(f\"./log/{name}.log\", f\"问句{idx+1}：{simplified_question}\\n回答{idx+1}: {brief_ans}\")\n",
    "            question = simplified_question\n",
    "            query = f\"{simplified_question} {brief_ans}\"\n",
    "            graph_ret = graphChat.chat_main(simplified_question)\n",
    "            utils.Logger.log(f\"./log/{name}.log\", f\"知识图谱结果：{graph_ret}\")\n",
    "            reference = queryManager.query_one(query)\n",
    "            utils.Logger.log(f\"./log/{name}.log\", f\"向量知识库结果：{reference}\")\n",
    "            \n",
    "            if graph_ret is not None:\n",
    "                reference = reference + f\"\\nknowledgeGraph: {graph_ret}\"\n",
    "            \n",
    "            extract, response = chatManager.chat_one(question, reference)\n",
    "            if extract == \"\":\n",
    "                extract = \"无\"\n",
    "            utils.Logger.log(f\"./log/{name}.log\", f\"大模型结果：{response}\\n参考知识：{extract}\")\n"
   ]
  },
  {
   "cell_type": "code",
   "execution_count": 9,
   "metadata": {},
   "outputs": [],
   "source": [
    "test_questions = {\n",
    "    \"reject\": [\n",
    "        \"Python该怎么学？\",\n",
    "        \"飞机有哪些部件组成？\",\n",
    "        \"狂犬病疫苗去哪里接种？\",\n",
    "        \"水杯一般多少钱？\",\n",
    "        \"狂犬病疫苗打一次多少钱？\",\n",
    "        \"没钱赚，好头疼\",\n",
    "        \"今天吃什么？\",\n",
    "        \"打狂犬病疫苗有什么后遗症？\",\n",
    "        \"艾滋病的传染途径是什么？\",\n",
    "        \"献血政策是什么?\"\n",
    "    ],\n",
    "    \"reject2\": [\n",
    "        \"宠物陪伴对人的心理健康有何积极影响？\",\n",
    "        \"空气污染如何影响儿童的学习能力？\",\n",
    "        \"学习新语言能延缓衰老吗？\",\n",
    "        \"为什么某些气味能唤起强烈的情感回忆？\",\n",
    "        \"睡眠不足会影响记忆力吗？\",\n",
    "        \"经常运动的人需要更多的蛋白质吗？\",\n",
    "        \"冥想如何影响大脑的结构？\",\n",
    "        \"饮用绿茶真的能帮助减肥吗？\",\n",
    "        \"为什么在长时间阅读后眼睛会感到疲劳？\",\n",
    "        \"为什么在飞机上耳朵会感到不适？\"\n",
    "    ]\n",
    "}"
   ]
  },
  {
   "cell_type": "code",
   "execution_count": 10,
   "metadata": {},
   "outputs": [],
   "source": [
    "for k, v in test_questions.items():\n",
    "    test(k, v)"
   ]
  }
 ],
 "metadata": {
  "kernelspec": {
   "display_name": "mzRAG",
   "language": "python",
   "name": "python3"
  },
  "language_info": {
   "codemirror_mode": {
    "name": "ipython",
    "version": 3
   },
   "file_extension": ".py",
   "mimetype": "text/x-python",
   "name": "python",
   "nbconvert_exporter": "python",
   "pygments_lexer": "ipython3",
   "version": "3.9.20"
  }
 },
 "nbformat": 4,
 "nbformat_minor": 2
}
